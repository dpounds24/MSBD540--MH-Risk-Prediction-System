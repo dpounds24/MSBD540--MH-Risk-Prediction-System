{
 "cells": [
  {
   "cell_type": "markdown",
   "id": "8ab0a903-c1df-410e-9e3c-760324b684df",
   "metadata": {},
   "source": [
    "2,500,000 Sample"
   ]
  },
  {
   "cell_type": "code",
   "execution_count": 1,
   "id": "59b13c22-da50-4b56-9ff1-f54c10163628",
   "metadata": {},
   "outputs": [],
   "source": [
    "import pandas as pd\n",
    "import numpy as np\n",
    "\n",
    "from sklearn.metrics import roc_auc_score\n",
    "from sklearn.model_selection import train_test_split\n",
    "from sklearn.pipeline import Pipeline\n",
    "from sklearn.model_selection import cross_val_score, GridSearchCV, cross_val_predict\n",
    "from sklearn.svm import SVC\n",
    "from sklearn.ensemble import RandomForestClassifier, GradientBoostingRegressor\n",
    "from sklearn.tree import DecisionTreeClassifier\n",
    "from sklearn.neighbors import KNeighborsClassifier\n",
    "from sklearn.linear_model import LogisticRegression\n",
    "from sklearn.metrics import confusion_matrix, accuracy_score, precision_score, recall_score, f1_score\n",
    "from sklearn.metrics import roc_auc_score, roc_curve, confusion_matrix, ConfusionMatrixDisplay\n",
    "from sklearn.preprocessing import StandardScaler"
   ]
  },
  {
   "cell_type": "code",
   "execution_count": 2,
   "id": "3e0bb5fd-8f2f-4665-9857-aaef04c8b99e",
   "metadata": {},
   "outputs": [],
   "source": [
    "##Data Exploration and Preprocessing"
   ]
  },
  {
   "cell_type": "code",
   "execution_count": 3,
   "id": "34a50a05-e6a5-4d73-929d-3ee78f466273",
   "metadata": {},
   "outputs": [],
   "source": [
    "data= pd.read_csv('sample2.csv')"
   ]
  },
  {
   "cell_type": "code",
   "execution_count": 4,
   "id": "52bfdc4c-1b1f-4d8a-9a22-e3a41c84ee4d",
   "metadata": {},
   "outputs": [],
   "source": [
    "df = data.drop(columns=['CASEID', 'CMPSERVICE', 'IJSSERVICE', \n",
    "                        'OPISERVICE','RTCSERVICE', 'SPHSERVICE', 'YEAR',\n",
    "                        'TRAUSTREFLG', 'ANXIETYFLG', \n",
    "                        'ADHDFLG', 'CONDUCTFLG', 'DELIRDEMFLG', \n",
    "                        'BIPOLARFLG', 'DEPRESSFLG', 'ODDFLG', \n",
    "                        'PDDFLG', 'PERSONFLG', 'SCHIZOFLG', \n",
    "                        'ALCSUBFLG', 'OTHERDISFLG',\n",
    "                        'DIVISION', 'REGION'])"
   ]
  },
  {
   "cell_type": "code",
   "execution_count": 5,
   "id": "5a255bb5-5838-444d-a2a5-187011679c3b",
   "metadata": {},
   "outputs": [],
   "source": [
    "def label_risk(row):\n",
    "    if row['SMISED'] == 1:\n",
    "        return 1\n",
    "    if row['SMISED'] == 2:\n",
    "        return 1\n",
    "    if row['SMISED'] == 3:\n",
    "        return 0\n",
    "    else:\n",
    "        return float('NaN')"
   ]
  },
  {
   "cell_type": "code",
   "execution_count": 6,
   "id": "4e5b2b19-2db9-4d8f-8ca6-95104f17d949",
   "metadata": {},
   "outputs": [],
   "source": [
    "df['mh_risk'] = df.apply(label_risk, axis=1)\n",
    "df = df.dropna()\n",
    "df = df.astype('int64')\n",
    "df = df.drop(columns=['SMISED'])"
   ]
  },
  {
   "cell_type": "code",
   "execution_count": 7,
   "id": "45915356-29f8-4c5d-a336-673af5ec2209",
   "metadata": {},
   "outputs": [
    {
     "name": "stdout",
     "output_type": "stream",
     "text": [
      "<class 'pandas.core.frame.DataFrame'>\n",
      "Index: 2343299 entries, 0 to 2499999\n",
      "Data columns (total 18 columns):\n",
      " #   Column    Dtype\n",
      "---  ------    -----\n",
      " 0   AGE       int64\n",
      " 1   EDUC      int64\n",
      " 2   ETHNIC    int64\n",
      " 3   RACE      int64\n",
      " 4   GENDER    int64\n",
      " 5   MH1       int64\n",
      " 6   MH2       int64\n",
      " 7   MH3       int64\n",
      " 8   SUB       int64\n",
      " 9   MARSTAT   int64\n",
      " 10  SAP       int64\n",
      " 11  EMPLOY    int64\n",
      " 12  DETNLF    int64\n",
      " 13  VETERAN   int64\n",
      " 14  LIVARAG   int64\n",
      " 15  NUMMHS    int64\n",
      " 16  STATEFIP  int64\n",
      " 17  mh_risk   int64\n",
      "dtypes: int64(18)\n",
      "memory usage: 339.7 MB\n"
     ]
    }
   ],
   "source": [
    "df.info()"
   ]
  },
  {
   "cell_type": "code",
   "execution_count": 8,
   "id": "c6aaf7c4-23c0-4f8b-8a7a-57ee140623b0",
   "metadata": {},
   "outputs": [
    {
     "data": {
      "text/html": [
       "<div>\n",
       "<style scoped>\n",
       "    .dataframe tbody tr th:only-of-type {\n",
       "        vertical-align: middle;\n",
       "    }\n",
       "\n",
       "    .dataframe tbody tr th {\n",
       "        vertical-align: top;\n",
       "    }\n",
       "\n",
       "    .dataframe thead th {\n",
       "        text-align: right;\n",
       "    }\n",
       "</style>\n",
       "<table border=\"1\" class=\"dataframe\">\n",
       "  <thead>\n",
       "    <tr style=\"text-align: right;\">\n",
       "      <th></th>\n",
       "      <th>AGE</th>\n",
       "      <th>EDUC</th>\n",
       "      <th>ETHNIC</th>\n",
       "      <th>RACE</th>\n",
       "      <th>GENDER</th>\n",
       "      <th>MH1</th>\n",
       "      <th>MH2</th>\n",
       "      <th>MH3</th>\n",
       "      <th>SUB</th>\n",
       "      <th>MARSTAT</th>\n",
       "      <th>SAP</th>\n",
       "      <th>EMPLOY</th>\n",
       "      <th>DETNLF</th>\n",
       "      <th>VETERAN</th>\n",
       "      <th>LIVARAG</th>\n",
       "      <th>NUMMHS</th>\n",
       "      <th>STATEFIP</th>\n",
       "    </tr>\n",
       "  </thead>\n",
       "  <tbody>\n",
       "    <tr>\n",
       "      <th>0</th>\n",
       "      <td>8</td>\n",
       "      <td>-9</td>\n",
       "      <td>3</td>\n",
       "      <td>-9</td>\n",
       "      <td>1</td>\n",
       "      <td>-9</td>\n",
       "      <td>-9</td>\n",
       "      <td>-9</td>\n",
       "      <td>-9</td>\n",
       "      <td>-9</td>\n",
       "      <td>2</td>\n",
       "      <td>-9</td>\n",
       "      <td>-9</td>\n",
       "      <td>-9</td>\n",
       "      <td>-9</td>\n",
       "      <td>0</td>\n",
       "      <td>6</td>\n",
       "    </tr>\n",
       "    <tr>\n",
       "      <th>1</th>\n",
       "      <td>7</td>\n",
       "      <td>5</td>\n",
       "      <td>4</td>\n",
       "      <td>5</td>\n",
       "      <td>2</td>\n",
       "      <td>11</td>\n",
       "      <td>-9</td>\n",
       "      <td>-9</td>\n",
       "      <td>-9</td>\n",
       "      <td>1</td>\n",
       "      <td>2</td>\n",
       "      <td>4</td>\n",
       "      <td>-9</td>\n",
       "      <td>2</td>\n",
       "      <td>2</td>\n",
       "      <td>1</td>\n",
       "      <td>24</td>\n",
       "    </tr>\n",
       "    <tr>\n",
       "      <th>2</th>\n",
       "      <td>14</td>\n",
       "      <td>5</td>\n",
       "      <td>4</td>\n",
       "      <td>5</td>\n",
       "      <td>2</td>\n",
       "      <td>10</td>\n",
       "      <td>13</td>\n",
       "      <td>-9</td>\n",
       "      <td>8</td>\n",
       "      <td>4</td>\n",
       "      <td>1</td>\n",
       "      <td>5</td>\n",
       "      <td>1</td>\n",
       "      <td>2</td>\n",
       "      <td>2</td>\n",
       "      <td>2</td>\n",
       "      <td>18</td>\n",
       "    </tr>\n",
       "    <tr>\n",
       "      <th>3</th>\n",
       "      <td>3</td>\n",
       "      <td>4</td>\n",
       "      <td>4</td>\n",
       "      <td>5</td>\n",
       "      <td>1</td>\n",
       "      <td>7</td>\n",
       "      <td>-9</td>\n",
       "      <td>-9</td>\n",
       "      <td>-9</td>\n",
       "      <td>-9</td>\n",
       "      <td>-9</td>\n",
       "      <td>4</td>\n",
       "      <td>-9</td>\n",
       "      <td>-9</td>\n",
       "      <td>2</td>\n",
       "      <td>1</td>\n",
       "      <td>20</td>\n",
       "    </tr>\n",
       "    <tr>\n",
       "      <th>4</th>\n",
       "      <td>11</td>\n",
       "      <td>5</td>\n",
       "      <td>4</td>\n",
       "      <td>5</td>\n",
       "      <td>2</td>\n",
       "      <td>6</td>\n",
       "      <td>13</td>\n",
       "      <td>-9</td>\n",
       "      <td>-9</td>\n",
       "      <td>4</td>\n",
       "      <td>2</td>\n",
       "      <td>-9</td>\n",
       "      <td>-9</td>\n",
       "      <td>2</td>\n",
       "      <td>2</td>\n",
       "      <td>2</td>\n",
       "      <td>34</td>\n",
       "    </tr>\n",
       "  </tbody>\n",
       "</table>\n",
       "</div>"
      ],
      "text/plain": [
       "   AGE  EDUC  ETHNIC  RACE  GENDER  MH1  MH2  MH3  SUB  MARSTAT  SAP  EMPLOY  \\\n",
       "0    8    -9       3    -9       1   -9   -9   -9   -9       -9    2      -9   \n",
       "1    7     5       4     5       2   11   -9   -9   -9        1    2       4   \n",
       "2   14     5       4     5       2   10   13   -9    8        4    1       5   \n",
       "3    3     4       4     5       1    7   -9   -9   -9       -9   -9       4   \n",
       "4   11     5       4     5       2    6   13   -9   -9        4    2      -9   \n",
       "\n",
       "   DETNLF  VETERAN  LIVARAG  NUMMHS  STATEFIP  \n",
       "0      -9       -9       -9       0         6  \n",
       "1      -9        2        2       1        24  \n",
       "2       1        2        2       2        18  \n",
       "3      -9       -9        2       1        20  \n",
       "4      -9        2        2       2        34  "
      ]
     },
     "execution_count": 8,
     "metadata": {},
     "output_type": "execute_result"
    }
   ],
   "source": [
    "X = df.drop(columns=['mh_risk'])\n",
    "X.head()"
   ]
  },
  {
   "cell_type": "code",
   "execution_count": 9,
   "id": "ecf7e0e1-81f3-417f-b9ff-7453803f1ebf",
   "metadata": {},
   "outputs": [],
   "source": [
    "y = df['mh_risk'].values"
   ]
  },
  {
   "cell_type": "code",
   "execution_count": 10,
   "id": "3dfe32d5-3d2c-407a-a7d4-e135f9772ef7",
   "metadata": {},
   "outputs": [],
   "source": [
    "##Split dataset into train and test data\n",
    "from sklearn.model_selection import train_test_split\n",
    "\n",
    "X_train, X_test, y_train, y_test = train_test_split(X, y, test_size=0.2, random_state=1, stratify=y)"
   ]
  },
  {
   "cell_type": "code",
   "execution_count": 11,
   "id": "6720d8bb-5d67-44fe-831f-9806a08927e4",
   "metadata": {},
   "outputs": [],
   "source": [
    "scaler = StandardScaler().fit(X_train)\n",
    "X_scaled = scaler.transform(X_train)"
   ]
  },
  {
   "cell_type": "code",
   "execution_count": 12,
   "id": "386358bb-d1ab-469c-9b00-90dc2c48562d",
   "metadata": {},
   "outputs": [],
   "source": [
    "model_list = ['DecisionTree','RandomForest','Logistic Regression', 'Gradient Boosting Regression', 'Artificial Neural Network' ]\n",
    "score=[]"
   ]
  },
  {
   "cell_type": "code",
   "execution_count": 13,
   "id": "832f83d5-f239-4e97-b7ea-05dc0cfb6229",
   "metadata": {},
   "outputs": [],
   "source": [
    "def get_metrics(y_test, y_pred):\n",
    "    print(\"F1 score:\", f1_score(y_test, y_pred, average='binary'))\n",
    "    print(\"ROC AUC:\", roc_auc_score(y_test, y_pred))\n",
    "    print(\"Accuracy:\", accuracy_score(y_test, y_pred))\n",
    "    print(\"Precision:\", precision_score(y_test, y_pred))\n",
    "    print(\"Recall:\", recall_score(y_test, y_pred))\n",
    "    print(\"Confusion Matrix:\", confusion_matrix(y_test, y_pred))"
   ]
  },
  {
   "cell_type": "code",
   "execution_count": 14,
   "id": "ac823a00-ab61-4c90-b469-52fab6dedbae",
   "metadata": {},
   "outputs": [
    {
     "data": {
      "text/plain": [
       "array([0.7706861])"
      ]
     },
     "execution_count": 14,
     "metadata": {},
     "output_type": "execute_result"
    }
   ],
   "source": [
    "#DT\n",
    "dt_clf = DecisionTreeClassifier(max_leaf_nodes=10, random_state=0, criterion='entropy')\n",
    "dt_clf.fit(X_train, y_train)\n",
    "y_pred=pd.DataFrame(dt_clf.predict_proba(X_test))[1].values\n",
    "score.append(roc_auc_score(y_test,y_pred))\n",
    "\n",
    "np.array(score)"
   ]
  },
  {
   "cell_type": "code",
   "execution_count": 15,
   "id": "34be190f-94c9-42bc-88a9-497087526b33",
   "metadata": {},
   "outputs": [
    {
     "name": "stdout",
     "output_type": "stream",
     "text": [
      "F1 score: 0.8580258786270785\n",
      "ROC AUC: 0.6140974442973779\n",
      "Accuracy: 0.7700465155976615\n",
      "Precision: 0.7897237169802628\n",
      "Recall: 0.9392613529844397\n",
      "Confusion Matrix: [[ 35234  86711]\n",
      " [ 21059 325656]]\n"
     ]
    }
   ],
   "source": [
    "#DT Metrics\n",
    "y_pred_dt = cross_val_predict(dt_clf, X_test, y_test, cv=5)\n",
    "get_metrics(y_test, y_pred_dt)"
   ]
  },
  {
   "cell_type": "code",
   "execution_count": 16,
   "id": "55513987-b9d8-4a7b-9bed-0e42ab98004c",
   "metadata": {},
   "outputs": [
    {
     "data": {
      "text/plain": [
       "array([0.7706861, 0.9301789])"
      ]
     },
     "execution_count": 16,
     "metadata": {},
     "output_type": "execute_result"
    }
   ],
   "source": [
    "# RF\n",
    "rf_clf = RandomForestClassifier()      \n",
    "rf_clf.fit(X_train,y_train)\n",
    "y_pred=pd.DataFrame(rf_clf.predict_proba(X_test))[1].values\n",
    "\n",
    "score.append(roc_auc_score(y_test,y_pred))\n",
    "\n",
    "np.array(score)"
   ]
  },
  {
   "cell_type": "code",
   "execution_count": 17,
   "id": "5a668a6d-2587-4678-8ba8-eb1a9fb782ed",
   "metadata": {},
   "outputs": [
    {
     "name": "stdout",
     "output_type": "stream",
     "text": [
      "F1 score: 0.9127869968030736\n",
      "ROC AUC: 0.8136644547531631\n",
      "Accuracy: 0.8687385311313105\n",
      "Precision: 0.8975993308239231\n",
      "Recall: 0.9284974691028655\n",
      "Confusion Matrix: [[ 85219  36726]\n",
      " [ 24791 321924]]\n"
     ]
    }
   ],
   "source": [
    "#RF Metrics\n",
    "y_pred_rf = cross_val_predict(rf_clf, X_test, y_test, cv=5)\n",
    "get_metrics(y_test, y_pred_rf)"
   ]
  },
  {
   "cell_type": "code",
   "execution_count": 18,
   "id": "521406d6-1142-4e30-a64a-cc83f7a3ff3b",
   "metadata": {},
   "outputs": [
    {
     "name": "stderr",
     "output_type": "stream",
     "text": [
      "/opt/anaconda3/lib/python3.11/site-packages/sklearn/base.py:486: UserWarning: X has feature names, but LogisticRegression was fitted without feature names\n",
      "  warnings.warn(\n"
     ]
    },
    {
     "data": {
      "text/plain": [
       "array([0.7706861 , 0.9301789 , 0.60677017])"
      ]
     },
     "execution_count": 18,
     "metadata": {},
     "output_type": "execute_result"
    }
   ],
   "source": [
    "#LR\n",
    "lr_clf = LogisticRegression(solver='lbfgs', max_iter=1000)\n",
    "lr_clf.fit(X_scaled,y_train)\n",
    "y_pred=pd.DataFrame(lr_clf.predict_proba(X_test))[1].values\n",
    "score.append(roc_auc_score(y_test,y_pred))\n",
    "\n",
    "np.array(score)"
   ]
  },
  {
   "cell_type": "code",
   "execution_count": 19,
   "id": "52f0e4b0-c81b-4b1a-bb5c-7ece676aff08",
   "metadata": {},
   "outputs": [
    {
     "name": "stdout",
     "output_type": "stream",
     "text": [
      "F1 score: 0.8485110470701249\n",
      "ROC AUC: 0.5015719304619223\n",
      "Accuracy: 0.7375368070669569\n",
      "Precision: 0.7404103038053582\n",
      "Recall: 0.9935739728595533\n",
      "Confusion Matrix: [[  1167 120778]\n",
      " [  2228 344487]]\n"
     ]
    }
   ],
   "source": [
    "#Evaluate LR\n",
    "y_pred_lr = cross_val_predict(lr_clf, X_test, y_test, cv=5)\n",
    "get_metrics(y_test, y_pred_lr)"
   ]
  },
  {
   "cell_type": "code",
   "execution_count": 20,
   "id": "c61095cd-9d26-4ff1-8bf7-b6b28dbbe415",
   "metadata": {},
   "outputs": [
    {
     "data": {
      "text/plain": [
       "array([0.7706861 , 0.9301789 , 0.60677017, 0.88707568])"
      ]
     },
     "execution_count": 20,
     "metadata": {},
     "output_type": "execute_result"
    }
   ],
   "source": [
    "gbr = GradientBoostingRegressor()\n",
    "gbr.fit(X_train, y_train)\n",
    "\n",
    "y_pred=pd.DataFrame(gbr.predict(X_test))\n",
    "score.append(roc_auc_score(y_test,y_pred))\n",
    "\n",
    "np.array(score)"
   ]
  },
  {
   "cell_type": "code",
   "execution_count": 21,
   "id": "54e9206c-426a-47d8-8624-c5871f2ff531",
   "metadata": {},
   "outputs": [
    {
     "ename": "ValueError",
     "evalue": "Classification metrics can't handle a mix of binary and continuous targets",
     "output_type": "error",
     "traceback": [
      "\u001b[0;31m---------------------------------------------------------------------------\u001b[0m",
      "\u001b[0;31mValueError\u001b[0m                                Traceback (most recent call last)",
      "Cell \u001b[0;32mIn[21], line 3\u001b[0m\n\u001b[1;32m      1\u001b[0m \u001b[38;5;66;03m#Evaluate gbr\u001b[39;00m\n\u001b[1;32m      2\u001b[0m y_pred_gbr \u001b[38;5;241m=\u001b[39m cross_val_predict(gbr, X_test, y_test, cv\u001b[38;5;241m=\u001b[39m\u001b[38;5;241m5\u001b[39m)\n\u001b[0;32m----> 3\u001b[0m get_metrics(y_test, y_pred_gbr)\n",
      "Cell \u001b[0;32mIn[13], line 2\u001b[0m, in \u001b[0;36mget_metrics\u001b[0;34m(y_test, y_pred)\u001b[0m\n\u001b[1;32m      1\u001b[0m \u001b[38;5;28;01mdef\u001b[39;00m \u001b[38;5;21mget_metrics\u001b[39m(y_test, y_pred):\n\u001b[0;32m----> 2\u001b[0m     \u001b[38;5;28mprint\u001b[39m(\u001b[38;5;124m\"\u001b[39m\u001b[38;5;124mF1 score:\u001b[39m\u001b[38;5;124m\"\u001b[39m, f1_score(y_test, y_pred, average\u001b[38;5;241m=\u001b[39m\u001b[38;5;124m'\u001b[39m\u001b[38;5;124mbinary\u001b[39m\u001b[38;5;124m'\u001b[39m))\n\u001b[1;32m      3\u001b[0m     \u001b[38;5;28mprint\u001b[39m(\u001b[38;5;124m\"\u001b[39m\u001b[38;5;124mROC AUC:\u001b[39m\u001b[38;5;124m\"\u001b[39m, roc_auc_score(y_test, y_pred))\n\u001b[1;32m      4\u001b[0m     \u001b[38;5;28mprint\u001b[39m(\u001b[38;5;124m\"\u001b[39m\u001b[38;5;124mAccuracy:\u001b[39m\u001b[38;5;124m\"\u001b[39m, accuracy_score(y_test, y_pred))\n",
      "File \u001b[0;32m/opt/anaconda3/lib/python3.11/site-packages/sklearn/utils/_param_validation.py:213\u001b[0m, in \u001b[0;36mvalidate_params.<locals>.decorator.<locals>.wrapper\u001b[0;34m(*args, **kwargs)\u001b[0m\n\u001b[1;32m    207\u001b[0m \u001b[38;5;28;01mtry\u001b[39;00m:\n\u001b[1;32m    208\u001b[0m     \u001b[38;5;28;01mwith\u001b[39;00m config_context(\n\u001b[1;32m    209\u001b[0m         skip_parameter_validation\u001b[38;5;241m=\u001b[39m(\n\u001b[1;32m    210\u001b[0m             prefer_skip_nested_validation \u001b[38;5;129;01mor\u001b[39;00m global_skip_validation\n\u001b[1;32m    211\u001b[0m         )\n\u001b[1;32m    212\u001b[0m     ):\n\u001b[0;32m--> 213\u001b[0m         \u001b[38;5;28;01mreturn\u001b[39;00m func(\u001b[38;5;241m*\u001b[39margs, \u001b[38;5;241m*\u001b[39m\u001b[38;5;241m*\u001b[39mkwargs)\n\u001b[1;32m    214\u001b[0m \u001b[38;5;28;01mexcept\u001b[39;00m InvalidParameterError \u001b[38;5;28;01mas\u001b[39;00m e:\n\u001b[1;32m    215\u001b[0m     \u001b[38;5;66;03m# When the function is just a wrapper around an estimator, we allow\u001b[39;00m\n\u001b[1;32m    216\u001b[0m     \u001b[38;5;66;03m# the function to delegate validation to the estimator, but we replace\u001b[39;00m\n\u001b[1;32m    217\u001b[0m     \u001b[38;5;66;03m# the name of the estimator by the name of the function in the error\u001b[39;00m\n\u001b[1;32m    218\u001b[0m     \u001b[38;5;66;03m# message to avoid confusion.\u001b[39;00m\n\u001b[1;32m    219\u001b[0m     msg \u001b[38;5;241m=\u001b[39m re\u001b[38;5;241m.\u001b[39msub(\n\u001b[1;32m    220\u001b[0m         \u001b[38;5;124mr\u001b[39m\u001b[38;5;124m\"\u001b[39m\u001b[38;5;124mparameter of \u001b[39m\u001b[38;5;124m\\\u001b[39m\u001b[38;5;124mw+ must be\u001b[39m\u001b[38;5;124m\"\u001b[39m,\n\u001b[1;32m    221\u001b[0m         \u001b[38;5;124mf\u001b[39m\u001b[38;5;124m\"\u001b[39m\u001b[38;5;124mparameter of \u001b[39m\u001b[38;5;132;01m{\u001b[39;00mfunc\u001b[38;5;241m.\u001b[39m\u001b[38;5;18m__qualname__\u001b[39m\u001b[38;5;132;01m}\u001b[39;00m\u001b[38;5;124m must be\u001b[39m\u001b[38;5;124m\"\u001b[39m,\n\u001b[1;32m    222\u001b[0m         \u001b[38;5;28mstr\u001b[39m(e),\n\u001b[1;32m    223\u001b[0m     )\n",
      "File \u001b[0;32m/opt/anaconda3/lib/python3.11/site-packages/sklearn/metrics/_classification.py:1279\u001b[0m, in \u001b[0;36mf1_score\u001b[0;34m(y_true, y_pred, labels, pos_label, average, sample_weight, zero_division)\u001b[0m\n\u001b[1;32m   1099\u001b[0m \u001b[38;5;129m@validate_params\u001b[39m(\n\u001b[1;32m   1100\u001b[0m     {\n\u001b[1;32m   1101\u001b[0m         \u001b[38;5;124m\"\u001b[39m\u001b[38;5;124my_true\u001b[39m\u001b[38;5;124m\"\u001b[39m: [\u001b[38;5;124m\"\u001b[39m\u001b[38;5;124marray-like\u001b[39m\u001b[38;5;124m\"\u001b[39m, \u001b[38;5;124m\"\u001b[39m\u001b[38;5;124msparse matrix\u001b[39m\u001b[38;5;124m\"\u001b[39m],\n\u001b[0;32m   (...)\u001b[0m\n\u001b[1;32m   1126\u001b[0m     zero_division\u001b[38;5;241m=\u001b[39m\u001b[38;5;124m\"\u001b[39m\u001b[38;5;124mwarn\u001b[39m\u001b[38;5;124m\"\u001b[39m,\n\u001b[1;32m   1127\u001b[0m ):\n\u001b[1;32m   1128\u001b[0m \u001b[38;5;250m    \u001b[39m\u001b[38;5;124;03m\"\"\"Compute the F1 score, also known as balanced F-score or F-measure.\u001b[39;00m\n\u001b[1;32m   1129\u001b[0m \n\u001b[1;32m   1130\u001b[0m \u001b[38;5;124;03m    The F1 score can be interpreted as a harmonic mean of the precision and\u001b[39;00m\n\u001b[0;32m   (...)\u001b[0m\n\u001b[1;32m   1277\u001b[0m \u001b[38;5;124;03m    array([0.66666667, 1.        , 0.66666667])\u001b[39;00m\n\u001b[1;32m   1278\u001b[0m \u001b[38;5;124;03m    \"\"\"\u001b[39;00m\n\u001b[0;32m-> 1279\u001b[0m     \u001b[38;5;28;01mreturn\u001b[39;00m fbeta_score(\n\u001b[1;32m   1280\u001b[0m         y_true,\n\u001b[1;32m   1281\u001b[0m         y_pred,\n\u001b[1;32m   1282\u001b[0m         beta\u001b[38;5;241m=\u001b[39m\u001b[38;5;241m1\u001b[39m,\n\u001b[1;32m   1283\u001b[0m         labels\u001b[38;5;241m=\u001b[39mlabels,\n\u001b[1;32m   1284\u001b[0m         pos_label\u001b[38;5;241m=\u001b[39mpos_label,\n\u001b[1;32m   1285\u001b[0m         average\u001b[38;5;241m=\u001b[39maverage,\n\u001b[1;32m   1286\u001b[0m         sample_weight\u001b[38;5;241m=\u001b[39msample_weight,\n\u001b[1;32m   1287\u001b[0m         zero_division\u001b[38;5;241m=\u001b[39mzero_division,\n\u001b[1;32m   1288\u001b[0m     )\n",
      "File \u001b[0;32m/opt/anaconda3/lib/python3.11/site-packages/sklearn/utils/_param_validation.py:186\u001b[0m, in \u001b[0;36mvalidate_params.<locals>.decorator.<locals>.wrapper\u001b[0;34m(*args, **kwargs)\u001b[0m\n\u001b[1;32m    184\u001b[0m global_skip_validation \u001b[38;5;241m=\u001b[39m get_config()[\u001b[38;5;124m\"\u001b[39m\u001b[38;5;124mskip_parameter_validation\u001b[39m\u001b[38;5;124m\"\u001b[39m]\n\u001b[1;32m    185\u001b[0m \u001b[38;5;28;01mif\u001b[39;00m global_skip_validation:\n\u001b[0;32m--> 186\u001b[0m     \u001b[38;5;28;01mreturn\u001b[39;00m func(\u001b[38;5;241m*\u001b[39margs, \u001b[38;5;241m*\u001b[39m\u001b[38;5;241m*\u001b[39mkwargs)\n\u001b[1;32m    188\u001b[0m func_sig \u001b[38;5;241m=\u001b[39m signature(func)\n\u001b[1;32m    190\u001b[0m \u001b[38;5;66;03m# Map *args/**kwargs to the function signature\u001b[39;00m\n",
      "File \u001b[0;32m/opt/anaconda3/lib/python3.11/site-packages/sklearn/metrics/_classification.py:1471\u001b[0m, in \u001b[0;36mfbeta_score\u001b[0;34m(y_true, y_pred, beta, labels, pos_label, average, sample_weight, zero_division)\u001b[0m\n\u001b[1;32m   1291\u001b[0m \u001b[38;5;129m@validate_params\u001b[39m(\n\u001b[1;32m   1292\u001b[0m     {\n\u001b[1;32m   1293\u001b[0m         \u001b[38;5;124m\"\u001b[39m\u001b[38;5;124my_true\u001b[39m\u001b[38;5;124m\"\u001b[39m: [\u001b[38;5;124m\"\u001b[39m\u001b[38;5;124marray-like\u001b[39m\u001b[38;5;124m\"\u001b[39m, \u001b[38;5;124m\"\u001b[39m\u001b[38;5;124msparse matrix\u001b[39m\u001b[38;5;124m\"\u001b[39m],\n\u001b[0;32m   (...)\u001b[0m\n\u001b[1;32m   1320\u001b[0m     zero_division\u001b[38;5;241m=\u001b[39m\u001b[38;5;124m\"\u001b[39m\u001b[38;5;124mwarn\u001b[39m\u001b[38;5;124m\"\u001b[39m,\n\u001b[1;32m   1321\u001b[0m ):\n\u001b[1;32m   1322\u001b[0m \u001b[38;5;250m    \u001b[39m\u001b[38;5;124;03m\"\"\"Compute the F-beta score.\u001b[39;00m\n\u001b[1;32m   1323\u001b[0m \n\u001b[1;32m   1324\u001b[0m \u001b[38;5;124;03m    The F-beta score is the weighted harmonic mean of precision and recall,\u001b[39;00m\n\u001b[0;32m   (...)\u001b[0m\n\u001b[1;32m   1468\u001b[0m \u001b[38;5;124;03m    0.12...\u001b[39;00m\n\u001b[1;32m   1469\u001b[0m \u001b[38;5;124;03m    \"\"\"\u001b[39;00m\n\u001b[0;32m-> 1471\u001b[0m     _, _, f, _ \u001b[38;5;241m=\u001b[39m precision_recall_fscore_support(\n\u001b[1;32m   1472\u001b[0m         y_true,\n\u001b[1;32m   1473\u001b[0m         y_pred,\n\u001b[1;32m   1474\u001b[0m         beta\u001b[38;5;241m=\u001b[39mbeta,\n\u001b[1;32m   1475\u001b[0m         labels\u001b[38;5;241m=\u001b[39mlabels,\n\u001b[1;32m   1476\u001b[0m         pos_label\u001b[38;5;241m=\u001b[39mpos_label,\n\u001b[1;32m   1477\u001b[0m         average\u001b[38;5;241m=\u001b[39maverage,\n\u001b[1;32m   1478\u001b[0m         warn_for\u001b[38;5;241m=\u001b[39m(\u001b[38;5;124m\"\u001b[39m\u001b[38;5;124mf-score\u001b[39m\u001b[38;5;124m\"\u001b[39m,),\n\u001b[1;32m   1479\u001b[0m         sample_weight\u001b[38;5;241m=\u001b[39msample_weight,\n\u001b[1;32m   1480\u001b[0m         zero_division\u001b[38;5;241m=\u001b[39mzero_division,\n\u001b[1;32m   1481\u001b[0m     )\n\u001b[1;32m   1482\u001b[0m     \u001b[38;5;28;01mreturn\u001b[39;00m f\n",
      "File \u001b[0;32m/opt/anaconda3/lib/python3.11/site-packages/sklearn/utils/_param_validation.py:186\u001b[0m, in \u001b[0;36mvalidate_params.<locals>.decorator.<locals>.wrapper\u001b[0;34m(*args, **kwargs)\u001b[0m\n\u001b[1;32m    184\u001b[0m global_skip_validation \u001b[38;5;241m=\u001b[39m get_config()[\u001b[38;5;124m\"\u001b[39m\u001b[38;5;124mskip_parameter_validation\u001b[39m\u001b[38;5;124m\"\u001b[39m]\n\u001b[1;32m    185\u001b[0m \u001b[38;5;28;01mif\u001b[39;00m global_skip_validation:\n\u001b[0;32m--> 186\u001b[0m     \u001b[38;5;28;01mreturn\u001b[39;00m func(\u001b[38;5;241m*\u001b[39margs, \u001b[38;5;241m*\u001b[39m\u001b[38;5;241m*\u001b[39mkwargs)\n\u001b[1;32m    188\u001b[0m func_sig \u001b[38;5;241m=\u001b[39m signature(func)\n\u001b[1;32m    190\u001b[0m \u001b[38;5;66;03m# Map *args/**kwargs to the function signature\u001b[39;00m\n",
      "File \u001b[0;32m/opt/anaconda3/lib/python3.11/site-packages/sklearn/metrics/_classification.py:1775\u001b[0m, in \u001b[0;36mprecision_recall_fscore_support\u001b[0;34m(y_true, y_pred, beta, labels, pos_label, average, warn_for, sample_weight, zero_division)\u001b[0m\n\u001b[1;32m   1612\u001b[0m \u001b[38;5;250m\u001b[39m\u001b[38;5;124;03m\"\"\"Compute precision, recall, F-measure and support for each class.\u001b[39;00m\n\u001b[1;32m   1613\u001b[0m \n\u001b[1;32m   1614\u001b[0m \u001b[38;5;124;03mThe precision is the ratio ``tp / (tp + fp)`` where ``tp`` is the number of\u001b[39;00m\n\u001b[0;32m   (...)\u001b[0m\n\u001b[1;32m   1772\u001b[0m \u001b[38;5;124;03m array([2, 2, 2]))\u001b[39;00m\n\u001b[1;32m   1773\u001b[0m \u001b[38;5;124;03m\"\"\"\u001b[39;00m\n\u001b[1;32m   1774\u001b[0m _check_zero_division(zero_division)\n\u001b[0;32m-> 1775\u001b[0m labels \u001b[38;5;241m=\u001b[39m _check_set_wise_labels(y_true, y_pred, average, labels, pos_label)\n\u001b[1;32m   1777\u001b[0m \u001b[38;5;66;03m# Calculate tp_sum, pred_sum, true_sum ###\u001b[39;00m\n\u001b[1;32m   1778\u001b[0m samplewise \u001b[38;5;241m=\u001b[39m average \u001b[38;5;241m==\u001b[39m \u001b[38;5;124m\"\u001b[39m\u001b[38;5;124msamples\u001b[39m\u001b[38;5;124m\"\u001b[39m\n",
      "File \u001b[0;32m/opt/anaconda3/lib/python3.11/site-packages/sklearn/metrics/_classification.py:1547\u001b[0m, in \u001b[0;36m_check_set_wise_labels\u001b[0;34m(y_true, y_pred, average, labels, pos_label)\u001b[0m\n\u001b[1;32m   1544\u001b[0m \u001b[38;5;28;01mif\u001b[39;00m average \u001b[38;5;129;01mnot\u001b[39;00m \u001b[38;5;129;01min\u001b[39;00m average_options \u001b[38;5;129;01mand\u001b[39;00m average \u001b[38;5;241m!=\u001b[39m \u001b[38;5;124m\"\u001b[39m\u001b[38;5;124mbinary\u001b[39m\u001b[38;5;124m\"\u001b[39m:\n\u001b[1;32m   1545\u001b[0m     \u001b[38;5;28;01mraise\u001b[39;00m \u001b[38;5;167;01mValueError\u001b[39;00m(\u001b[38;5;124m\"\u001b[39m\u001b[38;5;124maverage has to be one of \u001b[39m\u001b[38;5;124m\"\u001b[39m \u001b[38;5;241m+\u001b[39m \u001b[38;5;28mstr\u001b[39m(average_options))\n\u001b[0;32m-> 1547\u001b[0m y_type, y_true, y_pred \u001b[38;5;241m=\u001b[39m _check_targets(y_true, y_pred)\n\u001b[1;32m   1548\u001b[0m \u001b[38;5;66;03m# Convert to Python primitive type to avoid NumPy type / Python str\u001b[39;00m\n\u001b[1;32m   1549\u001b[0m \u001b[38;5;66;03m# comparison. See https://github.com/numpy/numpy/issues/6784\u001b[39;00m\n\u001b[1;32m   1550\u001b[0m present_labels \u001b[38;5;241m=\u001b[39m unique_labels(y_true, y_pred)\u001b[38;5;241m.\u001b[39mtolist()\n",
      "File \u001b[0;32m/opt/anaconda3/lib/python3.11/site-packages/sklearn/metrics/_classification.py:108\u001b[0m, in \u001b[0;36m_check_targets\u001b[0;34m(y_true, y_pred)\u001b[0m\n\u001b[1;32m    105\u001b[0m     y_type \u001b[38;5;241m=\u001b[39m {\u001b[38;5;124m\"\u001b[39m\u001b[38;5;124mmulticlass\u001b[39m\u001b[38;5;124m\"\u001b[39m}\n\u001b[1;32m    107\u001b[0m \u001b[38;5;28;01mif\u001b[39;00m \u001b[38;5;28mlen\u001b[39m(y_type) \u001b[38;5;241m>\u001b[39m \u001b[38;5;241m1\u001b[39m:\n\u001b[0;32m--> 108\u001b[0m     \u001b[38;5;28;01mraise\u001b[39;00m \u001b[38;5;167;01mValueError\u001b[39;00m(\n\u001b[1;32m    109\u001b[0m         \u001b[38;5;124m\"\u001b[39m\u001b[38;5;124mClassification metrics can\u001b[39m\u001b[38;5;124m'\u001b[39m\u001b[38;5;124mt handle a mix of \u001b[39m\u001b[38;5;132;01m{0}\u001b[39;00m\u001b[38;5;124m and \u001b[39m\u001b[38;5;132;01m{1}\u001b[39;00m\u001b[38;5;124m targets\u001b[39m\u001b[38;5;124m\"\u001b[39m\u001b[38;5;241m.\u001b[39mformat(\n\u001b[1;32m    110\u001b[0m             type_true, type_pred\n\u001b[1;32m    111\u001b[0m         )\n\u001b[1;32m    112\u001b[0m     )\n\u001b[1;32m    114\u001b[0m \u001b[38;5;66;03m# We can't have more than one value on y_type => The set is no more needed\u001b[39;00m\n\u001b[1;32m    115\u001b[0m y_type \u001b[38;5;241m=\u001b[39m y_type\u001b[38;5;241m.\u001b[39mpop()\n",
      "\u001b[0;31mValueError\u001b[0m: Classification metrics can't handle a mix of binary and continuous targets"
     ]
    }
   ],
   "source": [
    "#Evaluate gbr\n",
    "y_pred_gbr = cross_val_predict(gbr, X_test, y_test, cv=5)\n",
    "get_metrics(y_test, y_pred_gbr)"
   ]
  },
  {
   "cell_type": "markdown",
   "id": "29b3cdf6-f5cc-4bdc-b4d2-5afdb05b7fae",
   "metadata": {},
   "source": [
    "GBR not suitable for evaluation"
   ]
  },
  {
   "cell_type": "code",
   "execution_count": 22,
   "id": "27ee553a-99b8-4ca2-89aa-468ad7c70ca3",
   "metadata": {},
   "outputs": [
    {
     "data": {
      "text/html": [
       "<pre style=\"white-space:pre;overflow-x:auto;line-height:normal;font-family:Menlo,'DejaVu Sans Mono',consolas,'Courier New',monospace\"><span style=\"font-weight: bold\">Model: \"sequential\"</span>\n",
       "</pre>\n"
      ],
      "text/plain": [
       "\u001b[1mModel: \"sequential\"\u001b[0m\n"
      ]
     },
     "metadata": {},
     "output_type": "display_data"
    },
    {
     "data": {
      "text/html": [
       "<pre style=\"white-space:pre;overflow-x:auto;line-height:normal;font-family:Menlo,'DejaVu Sans Mono',consolas,'Courier New',monospace\">┏━━━━━━━━━━━━━━━━━━━━━━━━━━━━━━━━━┳━━━━━━━━━━━━━━━━━━━━━━━━┳━━━━━━━━━━━━━━━┓\n",
       "┃<span style=\"font-weight: bold\"> Layer (type)                    </span>┃<span style=\"font-weight: bold\"> Output Shape           </span>┃<span style=\"font-weight: bold\">       Param # </span>┃\n",
       "┡━━━━━━━━━━━━━━━━━━━━━━━━━━━━━━━━━╇━━━━━━━━━━━━━━━━━━━━━━━━╇━━━━━━━━━━━━━━━┩\n",
       "│ dense (<span style=\"color: #0087ff; text-decoration-color: #0087ff\">Dense</span>)                   │ ?                      │   <span style=\"color: #00af00; text-decoration-color: #00af00\">0</span> (unbuilt) │\n",
       "├─────────────────────────────────┼────────────────────────┼───────────────┤\n",
       "│ dense_1 (<span style=\"color: #0087ff; text-decoration-color: #0087ff\">Dense</span>)                 │ ?                      │   <span style=\"color: #00af00; text-decoration-color: #00af00\">0</span> (unbuilt) │\n",
       "├─────────────────────────────────┼────────────────────────┼───────────────┤\n",
       "│ dense_2 (<span style=\"color: #0087ff; text-decoration-color: #0087ff\">Dense</span>)                 │ ?                      │   <span style=\"color: #00af00; text-decoration-color: #00af00\">0</span> (unbuilt) │\n",
       "└─────────────────────────────────┴────────────────────────┴───────────────┘\n",
       "</pre>\n"
      ],
      "text/plain": [
       "┏━━━━━━━━━━━━━━━━━━━━━━━━━━━━━━━━━┳━━━━━━━━━━━━━━━━━━━━━━━━┳━━━━━━━━━━━━━━━┓\n",
       "┃\u001b[1m \u001b[0m\u001b[1mLayer (type)                   \u001b[0m\u001b[1m \u001b[0m┃\u001b[1m \u001b[0m\u001b[1mOutput Shape          \u001b[0m\u001b[1m \u001b[0m┃\u001b[1m \u001b[0m\u001b[1m      Param #\u001b[0m\u001b[1m \u001b[0m┃\n",
       "┡━━━━━━━━━━━━━━━━━━━━━━━━━━━━━━━━━╇━━━━━━━━━━━━━━━━━━━━━━━━╇━━━━━━━━━━━━━━━┩\n",
       "│ dense (\u001b[38;5;33mDense\u001b[0m)                   │ ?                      │   \u001b[38;5;34m0\u001b[0m (unbuilt) │\n",
       "├─────────────────────────────────┼────────────────────────┼───────────────┤\n",
       "│ dense_1 (\u001b[38;5;33mDense\u001b[0m)                 │ ?                      │   \u001b[38;5;34m0\u001b[0m (unbuilt) │\n",
       "├─────────────────────────────────┼────────────────────────┼───────────────┤\n",
       "│ dense_2 (\u001b[38;5;33mDense\u001b[0m)                 │ ?                      │   \u001b[38;5;34m0\u001b[0m (unbuilt) │\n",
       "└─────────────────────────────────┴────────────────────────┴───────────────┘\n"
      ]
     },
     "metadata": {},
     "output_type": "display_data"
    },
    {
     "data": {
      "text/html": [
       "<pre style=\"white-space:pre;overflow-x:auto;line-height:normal;font-family:Menlo,'DejaVu Sans Mono',consolas,'Courier New',monospace\"><span style=\"font-weight: bold\"> Total params: </span><span style=\"color: #00af00; text-decoration-color: #00af00\">0</span> (0.00 B)\n",
       "</pre>\n"
      ],
      "text/plain": [
       "\u001b[1m Total params: \u001b[0m\u001b[38;5;34m0\u001b[0m (0.00 B)\n"
      ]
     },
     "metadata": {},
     "output_type": "display_data"
    },
    {
     "data": {
      "text/html": [
       "<pre style=\"white-space:pre;overflow-x:auto;line-height:normal;font-family:Menlo,'DejaVu Sans Mono',consolas,'Courier New',monospace\"><span style=\"font-weight: bold\"> Trainable params: </span><span style=\"color: #00af00; text-decoration-color: #00af00\">0</span> (0.00 B)\n",
       "</pre>\n"
      ],
      "text/plain": [
       "\u001b[1m Trainable params: \u001b[0m\u001b[38;5;34m0\u001b[0m (0.00 B)\n"
      ]
     },
     "metadata": {},
     "output_type": "display_data"
    },
    {
     "data": {
      "text/html": [
       "<pre style=\"white-space:pre;overflow-x:auto;line-height:normal;font-family:Menlo,'DejaVu Sans Mono',consolas,'Courier New',monospace\"><span style=\"font-weight: bold\"> Non-trainable params: </span><span style=\"color: #00af00; text-decoration-color: #00af00\">0</span> (0.00 B)\n",
       "</pre>\n"
      ],
      "text/plain": [
       "\u001b[1m Non-trainable params: \u001b[0m\u001b[38;5;34m0\u001b[0m (0.00 B)\n"
      ]
     },
     "metadata": {},
     "output_type": "display_data"
    }
   ],
   "source": [
    "#ANN\n",
    "from keras.models import Sequential\n",
    "from keras.layers import Dense\n",
    "\n",
    "model = Sequential()\n",
    "model.add(Dense(32, activation =\"relu\"))\n",
    "model.add(Dense(8, activation=\"relu\"))\n",
    "\n",
    "#Output Layer\n",
    "model.add(Dense(1))\n",
    "\n",
    "model.compile(loss=\"mse\", optimizer=\"Adam\", metrics=[\"mse\"])\n",
    "model.summary()"
   ]
  },
  {
   "cell_type": "code",
   "execution_count": null,
   "id": "f0f024d9-7ec7-4b7c-9bd0-9143b97aaef0",
   "metadata": {},
   "outputs": [
    {
     "name": "stdout",
     "output_type": "stream",
     "text": [
      "Epoch 1/30\n",
      "\u001b[1m52725/52725\u001b[0m \u001b[32m━━━━━━━━━━━━━━━━━━━━\u001b[0m\u001b[37m\u001b[0m \u001b[1m13s\u001b[0m 245us/step - loss: 0.2075 - mse: 0.2075 - val_loss: 0.1299 - val_mse: 0.1299\n",
      "Epoch 2/30\n",
      "\u001b[1m52725/52725\u001b[0m \u001b[32m━━━━━━━━━━━━━━━━━━━━\u001b[0m\u001b[37m\u001b[0m \u001b[1m13s\u001b[0m 244us/step - loss: 0.1299 - mse: 0.1299 - val_loss: 0.1253 - val_mse: 0.1253\n",
      "Epoch 3/30\n",
      "\u001b[1m52725/52725\u001b[0m \u001b[32m━━━━━━━━━━━━━━━━━━━━\u001b[0m\u001b[37m\u001b[0m \u001b[1m13s\u001b[0m 244us/step - loss: 0.1261 - mse: 0.1261 - val_loss: 0.1251 - val_mse: 0.1251\n",
      "Epoch 4/30\n",
      "\u001b[1m52725/52725\u001b[0m \u001b[32m━━━━━━━━━━━━━━━━━━━━\u001b[0m\u001b[37m\u001b[0m \u001b[1m13s\u001b[0m 243us/step - loss: 0.1234 - mse: 0.1234 - val_loss: 0.1229 - val_mse: 0.1229\n",
      "Epoch 5/30\n",
      "\u001b[1m52725/52725\u001b[0m \u001b[32m━━━━━━━━━━━━━━━━━━━━\u001b[0m\u001b[37m\u001b[0m \u001b[1m13s\u001b[0m 244us/step - loss: 0.1221 - mse: 0.1221 - val_loss: 0.1210 - val_mse: 0.1210\n",
      "Epoch 6/30\n",
      "\u001b[1m52725/52725\u001b[0m \u001b[32m━━━━━━━━━━━━━━━━━━━━\u001b[0m\u001b[37m\u001b[0m \u001b[1m13s\u001b[0m 244us/step - loss: 0.1210 - mse: 0.1210 - val_loss: 0.1198 - val_mse: 0.1198\n",
      "Epoch 7/30\n",
      "\u001b[1m52725/52725\u001b[0m \u001b[32m━━━━━━━━━━━━━━━━━━━━\u001b[0m\u001b[37m\u001b[0m \u001b[1m13s\u001b[0m 245us/step - loss: 0.1207 - mse: 0.1207 - val_loss: 0.1213 - val_mse: 0.1213\n",
      "Epoch 8/30\n",
      "\u001b[1m52725/52725\u001b[0m \u001b[32m━━━━━━━━━━━━━━━━━━━━\u001b[0m\u001b[37m\u001b[0m \u001b[1m13s\u001b[0m 244us/step - loss: 0.1202 - mse: 0.1202 - val_loss: 0.1188 - val_mse: 0.1188\n",
      "Epoch 9/30\n",
      "\u001b[1m52725/52725\u001b[0m \u001b[32m━━━━━━━━━━━━━━━━━━━━\u001b[0m\u001b[37m\u001b[0m \u001b[1m13s\u001b[0m 243us/step - loss: 0.1193 - mse: 0.1193 - val_loss: 0.1183 - val_mse: 0.1183\n",
      "Epoch 10/30\n",
      "\u001b[1m52725/52725\u001b[0m \u001b[32m━━━━━━━━━━━━━━━━━━━━\u001b[0m\u001b[37m\u001b[0m \u001b[1m13s\u001b[0m 244us/step - loss: 0.1188 - mse: 0.1188 - val_loss: 0.1176 - val_mse: 0.1176\n",
      "Epoch 11/30\n",
      "\u001b[1m52725/52725\u001b[0m \u001b[32m━━━━━━━━━━━━━━━━━━━━\u001b[0m\u001b[37m\u001b[0m \u001b[1m13s\u001b[0m 244us/step - loss: 0.1178 - mse: 0.1178 - val_loss: 0.1169 - val_mse: 0.1169\n",
      "Epoch 12/30\n",
      "\u001b[1m52725/52725\u001b[0m \u001b[32m━━━━━━━━━━━━━━━━━━━━\u001b[0m\u001b[37m\u001b[0m \u001b[1m13s\u001b[0m 243us/step - loss: 0.1171 - mse: 0.1171 - val_loss: 0.1160 - val_mse: 0.1160\n",
      "Epoch 13/30\n",
      "\u001b[1m52725/52725\u001b[0m \u001b[32m━━━━━━━━━━━━━━━━━━━━\u001b[0m\u001b[37m\u001b[0m \u001b[1m13s\u001b[0m 244us/step - loss: 0.1164 - mse: 0.1164 - val_loss: 0.1150 - val_mse: 0.1150\n",
      "Epoch 14/30\n",
      "\u001b[1m52725/52725\u001b[0m \u001b[32m━━━━━━━━━━━━━━━━━━━━\u001b[0m\u001b[37m\u001b[0m \u001b[1m13s\u001b[0m 244us/step - loss: 0.1158 - mse: 0.1158 - val_loss: 0.1143 - val_mse: 0.1143\n",
      "Epoch 15/30\n",
      "\u001b[1m52725/52725\u001b[0m \u001b[32m━━━━━━━━━━━━━━━━━━━━\u001b[0m\u001b[37m\u001b[0m \u001b[1m13s\u001b[0m 246us/step - loss: 0.1150 - mse: 0.1150 - val_loss: 0.1139 - val_mse: 0.1139\n",
      "Epoch 16/30\n",
      "\u001b[1m52725/52725\u001b[0m \u001b[32m━━━━━━━━━━━━━━━━━━━━\u001b[0m\u001b[37m\u001b[0m \u001b[1m13s\u001b[0m 244us/step - loss: 0.1150 - mse: 0.1150 - val_loss: 0.1155 - val_mse: 0.1155\n",
      "Epoch 17/30\n",
      "\u001b[1m52725/52725\u001b[0m \u001b[32m━━━━━━━━━━━━━━━━━━━━\u001b[0m\u001b[37m\u001b[0m \u001b[1m13s\u001b[0m 244us/step - loss: 0.1145 - mse: 0.1145 - val_loss: 0.1142 - val_mse: 0.1142\n",
      "Epoch 18/30\n",
      "\u001b[1m52725/52725\u001b[0m \u001b[32m━━━━━━━━━━━━━━━━━━━━\u001b[0m\u001b[37m\u001b[0m \u001b[1m13s\u001b[0m 244us/step - loss: 0.1140 - mse: 0.1140 - val_loss: 0.1136 - val_mse: 0.1136\n",
      "Epoch 19/30\n",
      "\u001b[1m52725/52725\u001b[0m \u001b[32m━━━━━━━━━━━━━━━━━━━━\u001b[0m\u001b[37m\u001b[0m \u001b[1m13s\u001b[0m 244us/step - loss: 0.1139 - mse: 0.1139 - val_loss: 0.1125 - val_mse: 0.1125\n",
      "Epoch 20/30\n",
      "\u001b[1m52725/52725\u001b[0m \u001b[32m━━━━━━━━━━━━━━━━━━━━\u001b[0m\u001b[37m\u001b[0m \u001b[1m13s\u001b[0m 244us/step - loss: 0.1139 - mse: 0.1139 - val_loss: 0.1137 - val_mse: 0.1137\n",
      "Epoch 21/30\n",
      "\u001b[1m52725/52725\u001b[0m \u001b[32m━━━━━━━━━━━━━━━━━━━━\u001b[0m\u001b[37m\u001b[0m \u001b[1m13s\u001b[0m 245us/step - loss: 0.1137 - mse: 0.1137 - val_loss: 0.1134 - val_mse: 0.1134\n",
      "Epoch 22/30\n",
      "\u001b[1m52725/52725\u001b[0m \u001b[32m━━━━━━━━━━━━━━━━━━━━\u001b[0m\u001b[37m\u001b[0m \u001b[1m13s\u001b[0m 245us/step - loss: 0.1133 - mse: 0.1133 - val_loss: 0.1126 - val_mse: 0.1126\n",
      "Epoch 23/30\n",
      "\u001b[1m52725/52725\u001b[0m \u001b[32m━━━━━━━━━━━━━━━━━━━━\u001b[0m\u001b[37m\u001b[0m \u001b[1m13s\u001b[0m 245us/step - loss: 0.1134 - mse: 0.1134 - val_loss: 0.1133 - val_mse: 0.1133\n",
      "Epoch 24/30\n",
      "\u001b[1m52725/52725\u001b[0m \u001b[32m━━━━━━━━━━━━━━━━━━━━\u001b[0m\u001b[37m\u001b[0m \u001b[1m13s\u001b[0m 244us/step - loss: 0.1134 - mse: 0.1134 - val_loss: 0.1171 - val_mse: 0.1171\n",
      "Epoch 25/30\n",
      "\u001b[1m52725/52725\u001b[0m \u001b[32m━━━━━━━━━━━━━━━━━━━━\u001b[0m\u001b[37m\u001b[0m \u001b[1m13s\u001b[0m 246us/step - loss: 0.1129 - mse: 0.1129 - val_loss: 0.1127 - val_mse: 0.1127\n",
      "Epoch 26/30\n",
      "\u001b[1m52725/52725\u001b[0m \u001b[32m━━━━━━━━━━━━━━━━━━━━\u001b[0m\u001b[37m\u001b[0m \u001b[1m13s\u001b[0m 245us/step - loss: 0.1128 - mse: 0.1128 - val_loss: 0.1136 - val_mse: 0.1136\n",
      "Epoch 27/30\n",
      "\u001b[1m52725/52725\u001b[0m \u001b[32m━━━━━━━━━━━━━━━━━━━━\u001b[0m\u001b[37m\u001b[0m \u001b[1m13s\u001b[0m 245us/step - loss: 0.1131 - mse: 0.1131 - val_loss: 0.1125 - val_mse: 0.1125\n",
      "Epoch 28/30\n",
      "\u001b[1m52725/52725\u001b[0m \u001b[32m━━━━━━━━━━━━━━━━━━━━\u001b[0m\u001b[37m\u001b[0m \u001b[1m13s\u001b[0m 248us/step - loss: 0.1126 - mse: 0.1126 - val_loss: 0.1120 - val_mse: 0.1120\n",
      "Epoch 29/30\n",
      "\u001b[1m52725/52725\u001b[0m \u001b[32m━━━━━━━━━━━━━━━━━━━━\u001b[0m\u001b[37m\u001b[0m \u001b[1m13s\u001b[0m 244us/step - loss: 0.1129 - mse: 0.1129 - val_loss: 0.1126 - val_mse: 0.1126\n",
      "Epoch 30/30\n",
      "\u001b[1m52725/52725\u001b[0m \u001b[32m━━━━━━━━━━━━━━━━━━━━\u001b[0m\u001b[37m\u001b[0m \u001b[1m13s\u001b[0m 246us/step - loss: 0.1129 - mse: 0.1129 - val_loss: 0.1124 - val_mse: 0.1124\n",
      "\u001b[1m14646/14646\u001b[0m \u001b[32m━━━━━━━━━━━━━━━━━━━━\u001b[0m\u001b[37m\u001b[0m \u001b[1m3s\u001b[0m 188us/step\n"
     ]
    }
   ],
   "source": [
    "history = model.fit(X_train, y_train, epochs=30, validation_split=0.1)\n",
    "pred_y = model.predict(X_test)\n",
    "score.append(roc_auc_score(y_test,pred_y))\n",
    "\n",
    "np.array(score)"
   ]
  },
  {
   "cell_type": "code",
   "execution_count": null,
   "id": "6818462f-8790-4415-8899-aa092979ee6e",
   "metadata": {},
   "outputs": [],
   "source": [
    "#Evaluate ann\n",
    "y_pred_ann = cross_val_predict(model, X_test, y_test, cv=5)\n",
    "get_metrics(y_test, y_pred_ann)"
   ]
  },
  {
   "cell_type": "code",
   "execution_count": null,
   "id": "dbc33861-2ce4-49ae-bb0f-e13a10a031a4",
   "metadata": {},
   "outputs": [],
   "source": [
    "import seaborn as sns\n",
    "import matplotlib.pyplot as plt\n",
    "\n",
    "plt.rcParams['figure.figsize']=20,8\n",
    "sns.set_style('darkgrid')\n",
    "ax = sns.barplot(x=model_list, y=score, palette = \"husl\", saturation =2.0)\n",
    "plt.xlabel('Classifier Models', fontsize = 20 )\n",
    "plt.ylabel('Probability', fontsize = 20)\n",
    "plt.title('AUC-ROC of different Classifier Models', fontsize = 20)\n",
    "plt.xticks(fontsize = 12, horizontalalignment = 'center', rotation = 8)\n",
    "plt.yticks(fontsize = 12)\n",
    "for i in ax.patches:\n",
    "    width, height = i.get_width(), i.get_height()\n",
    "    x, y = i.get_xy() \n",
    "    ax.annotate(f'{round(height,2)}%', (x + width/2, y + height*1.02), ha='center', fontsize = 'x-large')\n",
    "plt.show()"
   ]
  }
 ],
 "metadata": {
  "kernelspec": {
   "display_name": "Python 3 (ipykernel)",
   "language": "python",
   "name": "python3"
  },
  "language_info": {
   "codemirror_mode": {
    "name": "ipython",
    "version": 3
   },
   "file_extension": ".py",
   "mimetype": "text/x-python",
   "name": "python",
   "nbconvert_exporter": "python",
   "pygments_lexer": "ipython3",
   "version": "3.11.7"
  }
 },
 "nbformat": 4,
 "nbformat_minor": 5
}
